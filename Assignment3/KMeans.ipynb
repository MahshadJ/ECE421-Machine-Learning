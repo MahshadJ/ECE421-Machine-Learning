{
  "nbformat": 4,
  "nbformat_minor": 0,
  "metadata": {
    "colab": {
      "name": "KMeans.ipynb",
      "provenance": []
    },
    "kernelspec": {
      "name": "python3",
      "display_name": "Python 3"
    },
    "language_info": {
      "name": "python"
    }
  },
  "cells": [
    {
      "cell_type": "code",
      "metadata": {
        "id": "u1jHOAqMetRA",
        "colab": {
          "base_uri": "https://localhost:8080/",
          "height": 397
        },
        "outputId": "ff98f756-94bf-4bbd-b5b6-77ffed07dbf4"
      },
      "source": [
        "%tensorflow_version 1.x\n",
        "import tensorflow as tf\n",
        "import numpy as np\n",
        "import matplotlib.pyplot as plt\n",
        "import helper as hlp\n",
        "\n",
        "# Loading data\n",
        "#data = np.load('data2D.npy')\n",
        "data = np.load('data100D.npy')\n",
        "[num_pts, dim] = np.shape(data)\n",
        "\n",
        "is_valid = True\n",
        "# For Validation set\n",
        "if is_valid:\n",
        "  valid_batch = int(num_pts / 3.0)\n",
        "  np.random.seed(45689)\n",
        "  rnd_idx = np.arange(num_pts)\n",
        "  np.random.shuffle(rnd_idx)\n",
        "  val_data = data[rnd_idx[:valid_batch]]\n",
        "  data = data[rnd_idx[valid_batch:]]\n",
        "\n",
        "\n",
        "# Distance function for K-means\n",
        "def distanceFunc(X, MU):\n",
        "    # Inputs\n",
        "    # X: is an NxD matrix (N observations and D dimensions)\n",
        "    # MU: is an KxD matrix (K means and D dimensions)\n",
        "    X = tf.expand_dims(X,1)\n",
        "    MU = tf.expand_dims(MU,0)\n",
        "    pair_dist = tf.reduce_sum(tf.square(tf.subtract(X, MU)), axis=2)\n",
        "    # Outputs\n",
        "    # pair_dist: is the squared pairwise distance matrix (NxK)\n",
        "    return pair_dist\n",
        "\n",
        "all_losses = []\n",
        "#initialize variables and placeholders\n",
        "for K in [5, 10, 15, 20, 30]:\n",
        "  X = tf.placeholder(\"float\", (None, dim), name='X')\n",
        "  MU = tf.Variable(tf.random.truncated_normal(shape=(K, dim),mean=0.0,stddev=1.0))\n",
        "\n",
        "  clusters = tf.argmin(distanceFunc(X,MU), axis=1)\n",
        "  loss = tf.reduce_sum(tf.reduce_min(distanceFunc(X,MU),axis=1))\n",
        "  optiAndMini = tf.train.AdamOptimizer(learning_rate=0.1, beta1=0.9, beta2=0.99, epsilon=1e-5).minimize(loss)\n",
        "\n",
        "  sess = tf.Session()\n",
        "  sess.run(tf.global_variables_initializer())\n",
        "\n",
        "  losses = []\n",
        "  valid_losses = []\n",
        "\n",
        "  #training loop\n",
        "  for i in range(50):\n",
        "    _, newMU, x_loss, clustering= sess.run([optiAndMini, MU, loss, clusters], feed_dict={X: data})\n",
        "    if is_valid:\n",
        "      _, newMUV, v_loss, v_clustering= sess.run([optiAndMini, MU, loss, clusters], feed_dict={X: val_data})\n",
        "      valid_losses.append(v_loss)\n",
        "    else:\n",
        "      _, newMU, x_loss, clustering= sess.run([optiAndMini, MU, loss, clusters], feed_dict={X: data})\n",
        "      losses.append(x_loss)\n",
        "  print(valid_losses[-1])\n",
        "  all_losses.append(valid_losses)\n",
        "#plot corresponding loss functions\n",
        "x_range = range(50)\n",
        "\n",
        "if is_valid:\n",
        "  plt.plot(x_range, all_losses[0], 'b', x_range, all_losses[1], 'r', x_range, all_losses[2], 'g', x_range, all_losses[3], 'm', x_range, all_losses[4], 'y')\n",
        "  plt.xlabel('iterations')\n",
        "  plt.ylabel('loss')\n",
        "  plt.legend(['K=5', 'K=10', 'K=15', 'K=20', 'K=30'],loc='upper right')\n",
        "  plt.title(\"Validation Losses with K-means\")\n",
        "  plt.show()\n",
        "  print(valid_losses[-1])\n",
        "\n",
        "else:\n",
        "  plt.plot(x_range, losses, 'b')\n",
        "  plt.xlabel('iterations')\n",
        "  plt.ylabel('loss')\n",
        "  plt.legend([\"Training Loss\"],loc='upper right')\n",
        "  plt.title(\"Training Losses with K=3\")\n",
        "  plt.show()\n",
        "\n",
        "#calculate the percentage of data points in each cluster\n",
        "#percentages = np.zeros(K)\n",
        "#for k in range(K):\n",
        "#  percentages[k] = (np.sum(np.equal(k, clustering))/len(clustering))*100\n",
        "  #print(percentages[k])\n",
        "\n",
        "#plot the clusters\n",
        "#plt.title(\"K-means Clustering with K=\"+str(K))\n",
        "#scatter = plt.scatter(data[:, 0], data[:, 1], c=clustering, s=50, alpha=0.5)\n",
        "#kw = dict(fmt=\"{x:10}%\")\n",
        "#legend2 = plt.legend(*scatter.legend_elements(**kw),loc='upper right', title=\"Clusters\")\n",
        "#plt.legend([\"Training Loss\",'hi'], loc='upper right', title=\"Clusters\")\n",
        "#plt.plot(newMU[:, 0], newMU[:, 1], 'kx', markersize=15)\n",
        "#plt.legend()"
      ],
      "execution_count": null,
      "outputs": [
        {
          "output_type": "stream",
          "text": [
            "139351.98\n",
            "69906.42\n",
            "69928.18\n",
            "69488.08\n",
            "68316.2\n"
          ],
          "name": "stdout"
        },
        {
          "output_type": "display_data",
          "data": {
            "image/png": "[encoded data removed]",
            "text/plain": [
              "<Figure size 432x288 with 1 Axes>"
            ]
          },
          "metadata": {
            "tags": [],
            "needs_background": "light"
          }
        },
        {
          "output_type": "stream",
          "text": [
            "68316.2\n"
          ],
          "name": "stdout"
        }
      ]
    }
  ]
}