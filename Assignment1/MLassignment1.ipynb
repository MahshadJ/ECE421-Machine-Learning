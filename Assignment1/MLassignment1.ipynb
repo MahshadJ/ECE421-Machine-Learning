{
  "nbformat": 4,
  "nbformat_minor": 0,
  "metadata": {
    "colab": {
      "name": "MLassignment1.ipynb",
      "provenance": [],
      "collapsed_sections": []
    },
    "kernelspec": {
      "name": "python3",
      "display_name": "Python 3"
    }
  },
  "cells": [
    {
      "cell_type": "code",
      "metadata": {
        "colab": {
          "base_uri": "https://localhost:8080/"
        },
        "id": "xiiypkR7fVPt",
        "outputId": "1e10bef0-9212-4f56-a98f-f4cf2bfc6a7c"
      },
      "source": [
        "%tensorflow_version 1.x\n",
        "import tensorflow as tf\n",
        "import numpy as np\n",
        "import matplotlib.pyplot as plt"
      ],
      "execution_count": null,
      "outputs": [
        {
          "output_type": "stream",
          "text": [
            "TensorFlow 1.x selected.\n"
          ],
          "name": "stdout"
        }
      ]
    },
    {
      "cell_type": "code",
      "metadata": {
        "id": "jzQrMbAQ1JfA",
        "colab": {
          "base_uri": "https://localhost:8080/",
          "height": 346
        },
        "outputId": "3fb46fb1-ff3a-46c3-b266-ca17cc2e0cd1"
      },
      "source": [
        "def data():\n",
        "    with np.load('notMNIST.npz') as data :\n",
        "        Data, Target = data ['images'], data['labels']\n",
        "        posClass = 2\n",
        "        negClass = 9\n",
        "        dataIndx = (Target==posClass) + (Target==negClass)\n",
        "        Data = Data[dataIndx]/255.\n",
        "        Target = Target[dataIndx].reshape(-1, 1)\n",
        "        Target[Target==posClass] = 1\n",
        "        Target[Target==negClass] = 0\n",
        "        np.random.seed(521)\n",
        "        randIndx = np.arange(len(Data))\n",
        "        np.random.shuffle(randIndx)\n",
        "        Data, Target = Data[randIndx], Target[randIndx]\n",
        "        trainData, trainTarget = Data[:3500], Target[:3500]\n",
        "        validData, validTarget = Data[3500:3600], Target[3500:3600]\n",
        "        testData, testTarget = Data[3600:], Target[3600:]\n",
        "    return trainData, trainTarget, validData, validTarget, testData, testTarget\n",
        "\n",
        "def accuracy_cal(pred,y):\n",
        "  pred = pred>=0.5\n",
        "  return np.mean(pred==y)\n",
        "\n",
        "def buildGraph(minibatch):\n",
        "  w = tf.Variable(tf.random.truncated_normal((784, 1),0.0,0.5))\n",
        "  b = tf.Variable(0.0)\n",
        "  l = 0\n",
        "\n",
        "  x = tf.placeholder(tf.float32, (minibatch, 784), name='X')\n",
        "  y = tf.placeholder(tf.float32, (minibatch, 1), name='Y')\n",
        "\n",
        "  z = tf.matmul(x,w) + b\n",
        "  x_pred = tf.sigmoid(z)\n",
        "  x_loss = tf.losses.sigmoid_cross_entropy(y, x_pred)\n",
        "  reg = tf.nn.l2_loss(w)\n",
        "  x_loss += l/2*reg\n",
        "\n",
        "  optiAndMini = tf.train.AdamOptimizer(0.001).minimize(x_loss)\n",
        "\n",
        "  return w, b, x, x_pred, y, x_loss, optiAndMini\n",
        "\n",
        "minibatch = 1750\n",
        "epochs = 700\n",
        "batch_num = 3500/minibatch\n",
        "w, b, x, x_pred, y, x_loss, optiAndMini = buildGraph(minibatch)\n",
        "l = 0\n",
        "\n",
        "valid_data = tf.placeholder(tf.float32, (100, 784), name='VD')\n",
        "valid_target = tf.placeholder(tf.int8, (100, 1), name='VT')\n",
        "\n",
        "test_data = tf.placeholder(tf.float32, (145, 784), name='TD')\n",
        "test_target = tf.placeholder(tf.int8, (145, 1), name='TT')\n",
        "\n",
        "valid_pred = tf.sigmoid(tf.matmul(valid_data, w)+b)\n",
        "test_pred = tf.sigmoid(tf.matmul(test_data, w)+b)\n",
        "\n",
        "valid_loss = tf.losses.sigmoid_cross_entropy(valid_target, valid_pred) + l/2*tf.nn.l2_loss(w)\n",
        "test_loss =  tf.losses.sigmoid_cross_entropy(test_target, test_pred) + l/2*tf.nn.l2_loss(w)\n",
        "\n",
        "init = tf.global_variables_initializer()\n",
        "sess = tf.Session()\n",
        "sess.run(init)\n",
        "\n",
        "x_losses = []\n",
        "x_accuracy = []\n",
        "\n",
        "v_losses = []\n",
        "v_accuracy = []\n",
        "\n",
        "t_losses = []\n",
        "t_accuracy = []\n",
        "\n",
        "trainData, trainTarget, validData, validTarget, testData, testTarget = data()\n",
        "trainData = trainData.reshape((trainData.shape[0], trainData.shape[1]*trainData.shape[2]))\n",
        "validData = validData.reshape((validData.shape[0],validData.shape[1]*validData.shape[2])) \n",
        "testData = testData.reshape((testData.shape[0],testData.shape[1]*testData.shape[2]))\n",
        "\n",
        "for i in range(epochs):\n",
        "  index = np.random.permutation(np.shape(trainTarget)[0])\n",
        "  x_shuffled,y_shuffled = trainData[index], trainTarget[index]\n",
        "  for batch in range(int(batch_num)):\n",
        "    xBatch = x_shuffled[i:(i + minibatch),:] \n",
        "    yBatch = y_shuffled[i:(i + minibatch),:]\n",
        "    feedDict = {x: xBatch, y: yBatch, valid_data: validData, valid_target: validTarget, test_data: testData, test_target: testTarget}\n",
        "    _, newW, newB, x_l, x_p, v_l, v_p, t_l, t_p = sess.run(\n",
        "        [optiAndMini, w, b, x_loss, x_pred, valid_loss, valid_pred, test_loss, test_pred], feed_dict=feedDict)\n",
        "\n",
        "  x_losses.append(x_l)\n",
        "  v_losses.append(v_l)\n",
        "  t_losses.append(t_l)\n",
        "  x_accuracy.append(accuracy_cal(x_p, yBatch))\n",
        "  v_accuracy.append(accuracy_cal(v_p, validTarget))\n",
        "  t_accuracy.append(accuracy_cal(t_p, testTarget))\n",
        "\n",
        "print(accuracy_cal(x_p, yBatch))\n",
        "print(accuracy_cal(v_p, validTarget))\n",
        "print(accuracy_cal(t_p, testTarget))\n",
        "\n",
        "x_range = range(epochs)\n",
        "#plt.plot(x_range, x_losses, 'r', x_range, v_losses, 'b')\n",
        "#plt.xlabel('epochs')\n",
        "#plt.ylabel('loss')\n",
        "#plt.legend([\"Training Loss\",\"Valid Loss\"],loc='upper right')\n",
        "#plt.title(\"Training and Valid Data Losses with Batch Size=1750, ƛ = 0\")\n",
        "#plt.show()\n",
        "plt.plot(x_range, x_accuracy, 'r', x_range, v_accuracy, 'b')\n",
        "plt.xlabel('epochs')\n",
        "plt.ylabel('accuracy')\n",
        "plt.legend([\"Training Accuracy\",\"Valid Accuracy\"], loc='lower right')\n",
        "plt.title(\"Training and Valid Data Accuracies with Batch size=1750, ƛ = 0\")\n",
        "plt.show()"
      ],
      "execution_count": null,
      "outputs": [
        {
          "output_type": "stream",
          "text": [
            "0.9851428571428571\n",
            "0.98\n"
          ],
          "name": "stdout"
        },
        {
          "output_type": "display_data",
          "data": {
            "image/png": "[encoded data removed]",
            "text/plain": [
              "<Figure size 432x288 with 1 Axes>"
            ]
          },
          "metadata": {
            "tags": [],
            "needs_background": "light"
          }
        },
        {
          "output_type": "stream",
          "text": [
            "give me everything tonight\n"
          ],
          "name": "stdout"
        }
      ]
    }
  ]
}